{
  "nbformat": 4,
  "nbformat_minor": 0,
  "metadata": {
    "colab": {
      "provenance": [],
      "gpuType": "T4"
    },
    "kernelspec": {
      "name": "python3",
      "display_name": "Python 3"
    },
    "language_info": {
      "name": "python"
    },
    "accelerator": "GPU"
  },
  "cells": [
    {
      "cell_type": "markdown",
      "source": [
        "# Modulos"
      ],
      "metadata": {
        "id": "er-CbdPn4feI"
      }
    },
    {
      "cell_type": "code",
      "execution_count": 15,
      "metadata": {
        "id": "q_uFGWFm2zxz"
      },
      "outputs": [],
      "source": [
        "import torch\n",
        "import torch.nn as nn\n",
        "import torch.nn.functional as F\n",
        "import torchvision\n",
        "import torchvision.transforms as transforms\n",
        "import torch.optim as optim\n",
        "import matplotlib.pyplot as plt"
      ]
    },
    {
      "cell_type": "markdown",
      "source": [
        "# Importar datos y Transformar"
      ],
      "metadata": {
        "id": "bH138NWY4jVH"
      }
    },
    {
      "cell_type": "code",
      "source": [
        "# Transformaciones para las imágenes (normalización estándar para CIFAR-10)\n",
        "transform = transforms.Compose(\n",
        "    [transforms.ToTensor(),  # Convierte imágenes PIL a tensores de PyTorch\n",
        "     transforms.Normalize((0.5, 0.5, 0.5), (0.5, 0.5, 0.5))]) # Normaliza los canales RGB\n",
        "\n",
        "# Dataset de entrenamiento CIFAR-10\n",
        "trainset = torchvision.datasets.CIFAR10(root='./data', train=True, download=True, transform=transform)\n",
        "trainloader = torch.utils.data.DataLoader(trainset, batch_size=32, shuffle=True, num_workers=2)\n",
        "\n",
        "# Dataset de prueba CIFAR-10\n",
        "testset = torchvision.datasets.CIFAR10(root='./data', train=False, download=True, transform=transform)\n",
        "testloader = torch.utils.data.DataLoader(testset, batch_size=32, shuffle=False, num_workers=2)\n",
        "\n",
        "classes = ('plane', 'car', 'bird', 'cat', 'deer', 'dog', 'frog', 'horse', 'ship', 'truck')"
      ],
      "metadata": {
        "id": "3uA2MtcW27iC"
      },
      "execution_count": 16,
      "outputs": []
    },
    {
      "cell_type": "markdown",
      "source": [
        "# Arquitectura de CNN"
      ],
      "metadata": {
        "id": "sLh67pr94l07"
      }
    },
    {
      "cell_type": "code",
      "source": [
        "class Net(nn.Module):\n",
        "    def __init__(self):\n",
        "        super().__init__()\n",
        "        # Capas convolucionales:\n",
        "        # Conv2d(canales_entrada, canales_salida, tamaño_kernel)\n",
        "        self.conv1 = nn.Conv2d(3, 32, 3, padding=1) # 3 canales de entrada (RGB), 32 canales de salida, kernel 3x3 y padding\n",
        "        self.bn1 = nn.BatchNorm2d(32) # Capa de Batch Normalization\n",
        "\n",
        "        # Gracias al padding conserva el tamaño de salida (ej:5x5 entrada, 5x5 salida)\n",
        "\n",
        "        self.conv2 = nn.Conv2d(32, 64, 3, padding=1) # 32 canales de entrada (salida de conv1), 64 canales de salida, kernel 3x3\n",
        "        self.bn2 = nn.BatchNorm2d(64) # Capa de Batch Normalization\n",
        "\n",
        "        self.conv3 = nn.Conv2d(64, 128, 3, padding=1) # Nueva capa convolucional en el constructor, kernel 3x3\n",
        "        self.bn3 = nn.BatchNorm2d(128) # Nueva capa de Batch Normalization\n",
        "\n",
        "        self.conv4 = nn.Conv2d(128, 256, 3, padding=1) # -- Nueva capa convolucional en el constructor, kernel 3x3\n",
        "        self.bn4 = nn.BatchNorm2d(256) # -- Nueva capa de Batch Normalization\n",
        "\n",
        "        # Capa de Max Pooling (2x2\n",
        "        self.pool = nn.MaxPool2d(2, 2)     # Capa de Max Pooling 2x2, reduce dimensionalidad de las caracteristicas extraídas por las capas convolucionales\n",
        "\n",
        "        # Capas totalmente conectadas (lineales):\n",
        "        self.fc1 = nn.Linear(256 * 2 * 2 , 512)\n",
        "        self.fc2 = nn.Linear(512, 128)\n",
        "        self.fc3 = nn.Linear(128, 10)      # 10 clases de salida (CIFAR-10)\n",
        "\n",
        "    def forward(self, x):\n",
        "        # Función de paso hacia adelante: define cómo los datos fluyen por la red\n",
        "        x = self.pool(F.relu(self.bn1(self.conv1(x)))) # conv1 -> ReLU -> pool\n",
        "        x = self.pool(F.relu(self.bn2(self.conv2(x)))) # conv2 -> ReLU -> pool\n",
        "        x = self.pool(F.relu(self.bn3(self.conv3(x)))) # Nueva capa en el Forward\n",
        "        x = self.pool(F.relu(self.bn4(self.conv4(x)))) # -- Nueva capa en el Forward\n",
        "        # print(f\"Tamaño después de convoluciones y pooling: {x.shape}\")\n",
        "\n",
        "        x = torch.flatten(x, 1) # Aplanar la salida para las capas totalmente conectadas (aplanar desde la dimensión 1 en adelante)\n",
        "\n",
        "        # print(f\"Tamaño después de convoluciones y pooling: {x.shape}\")\n",
        "        x = F.relu(self.fc1(x))           # fc1 -> ReLU\n",
        "        x = F.relu(self.fc2(x))           # fc2 -> ReLU\n",
        "        x = self.fc3(x)                   # fc3 (capa de salida, no ReLU aquí típicamente en clasificación)\n",
        "\n",
        "        return x\n",
        "\n",
        "# ReLU significa Unidad de Activacion Lineal Rectificada (Rectified Linear Unit).\n",
        "# Es una funcion de activacion comunmente utiizada en redes neuronales, añade no linealidad a las RN- pertimiendole aprender patrones complejos eficientemente\n",
        "#     - Si la entrada es mayor que cero, la salida es igual a la entrada.\n",
        "#     - Si la entrada es menor o igual a cero, la salida es cero.\n",
        "# BENEFICIOS: - Introduce la NO LINEALIDAD, Eficiencia Computacional -\n",
        "# - Ayuda a resolver el problema del gradiente desvanecido\n",
        "\n",
        "\n",
        "\n",
        "net = Net() # Crear una instancia de la red neuronal\n",
        "dummy_input = torch.randn(1, 3, 32, 32)  # Simulación de una imagen CIFAR-10\n",
        "output = net(dummy_input) # IMPORTANTE: Usar estas dos líneas siempre\n",
        "\n",
        "# Simula la entrada de una imagen, si algo estuviera mal en la arquitectura fallaria en el entrenamiento\n",
        "# Con esas dos lineas el fallo lo encuentra ahora al ejecutar la celda, lo cual es muy valioso y ahorra tiempo"
      ],
      "metadata": {
        "id": "Pl0t-oCE3A0S"
      },
      "execution_count": 17,
      "outputs": []
    },
    {
      "cell_type": "markdown",
      "source": [
        "## Opcional: Descarga una imagen de la red **neuronal**"
      ],
      "metadata": {
        "id": "_3oU6zdY4p2Y"
      }
    },
    {
      "cell_type": "code",
      "source": [
        "\"\"\"\n",
        "from torchviz import make_dot\n",
        "\n",
        "dummy_input = torch.randn(1, 3, 32, 32)\n",
        "output = net(dummy_input)\n",
        "\n",
        "dot = make_dot(output, params=dict(net.named_parameters()))\n",
        "dot.format = 'png'\n",
        "dot.render('cnn_architecture')\n",
        "\"\"\""
      ],
      "metadata": {
        "colab": {
          "base_uri": "https://localhost:8080/",
          "height": 53
        },
        "id": "c_o4CcYFLyBB",
        "outputId": "997385c7-5a7a-419f-acbd-5b8a53318b5c"
      },
      "execution_count": 18,
      "outputs": [
        {
          "output_type": "execute_result",
          "data": {
            "text/plain": [
              "\"\\nfrom torchviz import make_dot\\n\\ndummy_input = torch.randn(1, 3, 32, 32)\\noutput = net(dummy_input)\\n\\ndot = make_dot(output, params=dict(net.named_parameters()))\\ndot.format = 'png'\\ndot.render('cnn_architecture')\\n\""
            ],
            "application/vnd.google.colaboratory.intrinsic+json": {
              "type": "string"
            }
          },
          "metadata": {},
          "execution_count": 18
        }
      ]
    },
    {
      "cell_type": "markdown",
      "source": [
        "# Funcion perdida y Optimizador"
      ],
      "metadata": {
        "id": "8PF-UfFR4zsr"
      }
    },
    {
      "cell_type": "code",
      "source": [
        "criterion = nn.CrossEntropyLoss() # Función de pérdida: Cross Entropy Loss (común para clasificación multiclase)\n",
        "optimizer = optim.SGD(net.parameters(), lr=0.001, momentum=0.9, weight_decay=0.001) # Optimizador: SGD (Stochastic Gradient Descent)\n",
        "# lr: learning rate (tasa de aprendizaje), momentum: para acelerar el descenso"
      ],
      "metadata": {
        "id": "CdYDcl533CJF"
      },
      "execution_count": 19,
      "outputs": []
    },
    {
      "cell_type": "markdown",
      "source": [
        "# Entrenamiento"
      ],
      "metadata": {
        "id": "94VfIf9W43fK"
      }
    },
    {
      "cell_type": "code",
      "source": [
        "for epoch in range(20):  # Loop sobre el dataset varias veces (épocas)\n",
        "\n",
        "    running_loss = 0.0\n",
        "    for i, data in enumerate(trainloader, 0): # Loop sobre batches de datos\n",
        "        inputs, labels = data      # Obtener las imágenes y las etiquetas del batch\n",
        "        optimizer.zero_grad()       # Poner a cero los gradientes (importante en cada iteración)\n",
        "\n",
        "        outputs = net(inputs)       # Paso hacia adelante: obtener las predicciones del modelo\n",
        "        loss = criterion(outputs, labels) # Calcular la pérdida (diferencia entre predicciones y etiquetas reales)\n",
        "        loss.backward()             # Paso hacia atrás: calcular los gradientes\n",
        "        optimizer.step()            # Optimizar: actualizar los pesos del modelo usando los gradientes y el optimizador\n",
        "\n",
        "        running_loss += loss.item() # Acumular la pérdida para este batch\n",
        "        if i % 2000 == 1999:    # Imprimir cada 2000 batches\n",
        "            print(f'[{epoch + 1}, {i + 1:5d}] loss: {running_loss / 2000:.3f}')\n",
        "            running_loss = 0.0\n",
        "\n",
        "print('Finished Training')"
      ],
      "metadata": {
        "colab": {
          "base_uri": "https://localhost:8080/"
        },
        "id": "Rxs9H-Lj3FHs",
        "outputId": "f239aa83-ad6f-48fa-cf32-5b143eae03c5"
      },
      "execution_count": 20,
      "outputs": [
        {
          "output_type": "stream",
          "name": "stdout",
          "text": [
            "Finished Training\n"
          ]
        }
      ]
    },
    {
      "cell_type": "markdown",
      "source": [
        "# Precisión Modelo"
      ],
      "metadata": {
        "id": "XDQisdqZ4-Ac"
      }
    },
    {
      "cell_type": "code",
      "source": [
        "correct = 0  # Contador predicciones correctas\n",
        "total = 0    # Contador del Total de Imagenes\n",
        "# No necesitamos calcular gradientes durante la prueba, así que usamos no_grad() para optimizar\n",
        "with torch.no_grad():\n",
        "    for data in testloader:\n",
        "        images, labels = data\n",
        "        outputs = net(images)\n",
        "        _, predicted = torch.max(outputs.data, 1) # Obtener la clase predicha (la de mayor probabilidad)\n",
        "        total += labels.size(0)           # Contar el número total de imágenes\n",
        "        correct += (predicted == labels).sum().item() # Contar cuántas predicciones fueron correctas\n",
        "\n",
        "print(f'Accuracy of the network on the 10000 test images: {100 * correct // total} %')\n"
      ],
      "metadata": {
        "colab": {
          "base_uri": "https://localhost:8080/"
        },
        "id": "4f6xUg043JAS",
        "outputId": "920a6242-b2d2-4019-8d25-852c3eb1480c"
      },
      "execution_count": 21,
      "outputs": [
        {
          "output_type": "stream",
          "name": "stdout",
          "text": [
            "Accuracy of the network on the 10000 test images: 77 %\n"
          ]
        }
      ]
    },
    {
      "cell_type": "markdown",
      "source": [
        "# Guardar Modelo/Descargar Modelo"
      ],
      "metadata": {
        "id": "XcWdI0K-5CEs"
      }
    },
    {
      "cell_type": "code",
      "source": [
        "MODEL_SAVE_PATH = '/content/redneuronal.pth' # Extensión .pth para modelos con PyTorch\n",
        "torch.save(net.state_dict(), MODEL_SAVE_PATH) # Guardar con las funciones de PyTorch\n",
        "print(f\"Modelo guardado en formato PyTorch en: {MODEL_SAVE_PATH}\")"
      ],
      "metadata": {
        "colab": {
          "base_uri": "https://localhost:8080/"
        },
        "id": "zriCyPv77AsJ",
        "outputId": "714e48b0-e59b-471c-cbff-b6a2394a5708"
      },
      "execution_count": 22,
      "outputs": [
        {
          "output_type": "stream",
          "name": "stdout",
          "text": [
            "Modelo guardado en formato PyTorch en: /content/redneuronal.pth\n"
          ]
        }
      ]
    }
  ]
}